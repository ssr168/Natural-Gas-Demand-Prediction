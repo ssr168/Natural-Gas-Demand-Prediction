{
 "cells": [
  {
   "cell_type": "code",
   "execution_count": 71,
   "metadata": {},
   "outputs": [],
   "source": [
    "%matplotlib inline\n",
    "\n",
    "import pandas as pd\n",
    "import time\n",
    "import datetime\n",
    "import matplotlib.pyplot as plt\n",
    "import numpy as np\n",
    "\n",
    "from sklearn.tree import export_graphviz, DecisionTreeClassifier, DecisionTreeRegressor\n",
    "from sklearn.ensemble import RandomForestClassifier, RandomForestRegressor\n",
    "from sklearn.model_selection import cross_val_score, train_test_split, GridSearchCV\n",
    "from sklearn.metrics import confusion_matrix, accuracy_score, mean_squared_error, precision_score, recall_score\n",
    "from sklearn.datasets import load_breast_cancer, load_boston\n",
    "\n",
    "from sklearn.ensemble import GradientBoostingClassifier\n",
    "\n",
    "from sklearn import preprocessing\n",
    "from sklearn import utils\n",
    "\n",
    "\n",
    "# Always make it pretty.\n",
    "plt.style.use('ggplot')\n",
    "\n",
    "# We get some interger -> float typecast warning from sklean below, this keeps them out of our hair.\n",
    "import warnings\n",
    "warnings.filterwarnings('ignore')\n",
    "\n",
    "import itertools\n"
   ]
  },
  {
   "cell_type": "code",
   "execution_count": 72,
   "metadata": {},
   "outputs": [],
   "source": [
    "d = pd.read_csv('data/cleaned_data_together.csv')"
   ]
  },
  {
   "cell_type": "code",
   "execution_count": 73,
   "metadata": {},
   "outputs": [],
   "source": [
    "def df_cleaner(df):\n",
    "    df['DateTime'] = pd.to_datetime(df['DateTime'])\n",
    "    return df"
   ]
  },
  {
   "cell_type": "code",
   "execution_count": 74,
   "metadata": {},
   "outputs": [],
   "source": [
    "df = df_cleaner(d)"
   ]
  },
  {
   "cell_type": "code",
   "execution_count": 75,
   "metadata": {},
   "outputs": [
    {
     "data": {
      "text/html": [
       "<div>\n",
       "<style scoped>\n",
       "    .dataframe tbody tr th:only-of-type {\n",
       "        vertical-align: middle;\n",
       "    }\n",
       "\n",
       "    .dataframe tbody tr th {\n",
       "        vertical-align: top;\n",
       "    }\n",
       "\n",
       "    .dataframe thead th {\n",
       "        text-align: right;\n",
       "    }\n",
       "</style>\n",
       "<table border=\"1\" class=\"dataframe\">\n",
       "  <thead>\n",
       "    <tr style=\"text-align: right;\">\n",
       "      <th></th>\n",
       "      <th>DateTime</th>\n",
       "      <th>Henry Hub Price $/MMBtu</th>\n",
       "      <th>Temp</th>\n",
       "      <th>Production MMCF</th>\n",
       "      <th>Storage BCFE</th>\n",
       "      <th>Reserves BCFE</th>\n",
       "      <th>Consumption MMCF</th>\n",
       "      <th>DOY</th>\n",
       "    </tr>\n",
       "  </thead>\n",
       "  <tbody>\n",
       "    <tr>\n",
       "      <th>0</th>\n",
       "      <td>2010-01-01</td>\n",
       "      <td>5.82</td>\n",
       "      <td>26.0317</td>\n",
       "      <td>2197157.0</td>\n",
       "      <td>3117.0</td>\n",
       "      <td>255035.0</td>\n",
       "      <td>1666520.0</td>\n",
       "      <td>1</td>\n",
       "    </tr>\n",
       "    <tr>\n",
       "      <th>1</th>\n",
       "      <td>2010-01-02</td>\n",
       "      <td>5.82</td>\n",
       "      <td>24.2249</td>\n",
       "      <td>2197157.0</td>\n",
       "      <td>3117.0</td>\n",
       "      <td>255035.0</td>\n",
       "      <td>1666520.0</td>\n",
       "      <td>2</td>\n",
       "    </tr>\n",
       "    <tr>\n",
       "      <th>2</th>\n",
       "      <td>2010-01-03</td>\n",
       "      <td>5.82</td>\n",
       "      <td>23.5537</td>\n",
       "      <td>2197157.0</td>\n",
       "      <td>3117.0</td>\n",
       "      <td>255035.0</td>\n",
       "      <td>1666520.0</td>\n",
       "      <td>3</td>\n",
       "    </tr>\n",
       "    <tr>\n",
       "      <th>3</th>\n",
       "      <td>2010-01-04</td>\n",
       "      <td>6.09</td>\n",
       "      <td>23.2831</td>\n",
       "      <td>2197157.0</td>\n",
       "      <td>3117.0</td>\n",
       "      <td>255035.0</td>\n",
       "      <td>1666520.0</td>\n",
       "      <td>4</td>\n",
       "    </tr>\n",
       "    <tr>\n",
       "      <th>4</th>\n",
       "      <td>2010-01-05</td>\n",
       "      <td>6.19</td>\n",
       "      <td>24.5469</td>\n",
       "      <td>2197157.0</td>\n",
       "      <td>3117.0</td>\n",
       "      <td>255035.0</td>\n",
       "      <td>1666520.0</td>\n",
       "      <td>5</td>\n",
       "    </tr>\n",
       "  </tbody>\n",
       "</table>\n",
       "</div>"
      ],
      "text/plain": [
       "    DateTime  Henry Hub Price $/MMBtu     Temp  Production MMCF  Storage BCFE  \\\n",
       "0 2010-01-01                     5.82  26.0317        2197157.0        3117.0   \n",
       "1 2010-01-02                     5.82  24.2249        2197157.0        3117.0   \n",
       "2 2010-01-03                     5.82  23.5537        2197157.0        3117.0   \n",
       "3 2010-01-04                     6.09  23.2831        2197157.0        3117.0   \n",
       "4 2010-01-05                     6.19  24.5469        2197157.0        3117.0   \n",
       "\n",
       "   Reserves BCFE  Consumption MMCF  DOY  \n",
       "0       255035.0         1666520.0    1  \n",
       "1       255035.0         1666520.0    2  \n",
       "2       255035.0         1666520.0    3  \n",
       "3       255035.0         1666520.0    4  \n",
       "4       255035.0         1666520.0    5  "
      ]
     },
     "execution_count": 75,
     "metadata": {},
     "output_type": "execute_result"
    }
   ],
   "source": [
    "df.head()"
   ]
  },
  {
   "cell_type": "code",
   "execution_count": 76,
   "metadata": {},
   "outputs": [],
   "source": [
    "def dow(x):\n",
    "    #test = df_shift_final['DateTime'][x]\n",
    "    date = datetime.datetime.strptime(str(x), \"%Y-%m-%d %H:%M:%S\")\n",
    "    return date.timetuple().tm_wday"
   ]
  },
  {
   "cell_type": "code",
   "execution_count": 77,
   "metadata": {},
   "outputs": [],
   "source": [
    "df['DOW'] =df['DateTime']"
   ]
  },
  {
   "cell_type": "code",
   "execution_count": 78,
   "metadata": {},
   "outputs": [],
   "source": [
    "df['DOW'] = df['DOW'].apply(lambda x : dow(x))"
   ]
  },
  {
   "cell_type": "code",
   "execution_count": 79,
   "metadata": {},
   "outputs": [
    {
     "data": {
      "text/html": [
       "<div>\n",
       "<style scoped>\n",
       "    .dataframe tbody tr th:only-of-type {\n",
       "        vertical-align: middle;\n",
       "    }\n",
       "\n",
       "    .dataframe tbody tr th {\n",
       "        vertical-align: top;\n",
       "    }\n",
       "\n",
       "    .dataframe thead th {\n",
       "        text-align: right;\n",
       "    }\n",
       "</style>\n",
       "<table border=\"1\" class=\"dataframe\">\n",
       "  <thead>\n",
       "    <tr style=\"text-align: right;\">\n",
       "      <th></th>\n",
       "      <th>DateTime</th>\n",
       "      <th>Henry Hub Price $/MMBtu</th>\n",
       "      <th>Temp</th>\n",
       "      <th>Production MMCF</th>\n",
       "      <th>Storage BCFE</th>\n",
       "      <th>Reserves BCFE</th>\n",
       "      <th>Consumption MMCF</th>\n",
       "      <th>DOY</th>\n",
       "      <th>DOW</th>\n",
       "    </tr>\n",
       "  </thead>\n",
       "  <tbody>\n",
       "    <tr>\n",
       "      <th>0</th>\n",
       "      <td>2010-01-01</td>\n",
       "      <td>5.82</td>\n",
       "      <td>26.0317</td>\n",
       "      <td>2197157.0</td>\n",
       "      <td>3117.0</td>\n",
       "      <td>255035.0</td>\n",
       "      <td>1666520.0</td>\n",
       "      <td>1</td>\n",
       "      <td>4</td>\n",
       "    </tr>\n",
       "    <tr>\n",
       "      <th>1</th>\n",
       "      <td>2010-01-02</td>\n",
       "      <td>5.82</td>\n",
       "      <td>24.2249</td>\n",
       "      <td>2197157.0</td>\n",
       "      <td>3117.0</td>\n",
       "      <td>255035.0</td>\n",
       "      <td>1666520.0</td>\n",
       "      <td>2</td>\n",
       "      <td>5</td>\n",
       "    </tr>\n",
       "    <tr>\n",
       "      <th>2</th>\n",
       "      <td>2010-01-03</td>\n",
       "      <td>5.82</td>\n",
       "      <td>23.5537</td>\n",
       "      <td>2197157.0</td>\n",
       "      <td>3117.0</td>\n",
       "      <td>255035.0</td>\n",
       "      <td>1666520.0</td>\n",
       "      <td>3</td>\n",
       "      <td>6</td>\n",
       "    </tr>\n",
       "    <tr>\n",
       "      <th>3</th>\n",
       "      <td>2010-01-04</td>\n",
       "      <td>6.09</td>\n",
       "      <td>23.2831</td>\n",
       "      <td>2197157.0</td>\n",
       "      <td>3117.0</td>\n",
       "      <td>255035.0</td>\n",
       "      <td>1666520.0</td>\n",
       "      <td>4</td>\n",
       "      <td>0</td>\n",
       "    </tr>\n",
       "    <tr>\n",
       "      <th>4</th>\n",
       "      <td>2010-01-05</td>\n",
       "      <td>6.19</td>\n",
       "      <td>24.5469</td>\n",
       "      <td>2197157.0</td>\n",
       "      <td>3117.0</td>\n",
       "      <td>255035.0</td>\n",
       "      <td>1666520.0</td>\n",
       "      <td>5</td>\n",
       "      <td>1</td>\n",
       "    </tr>\n",
       "  </tbody>\n",
       "</table>\n",
       "</div>"
      ],
      "text/plain": [
       "    DateTime  Henry Hub Price $/MMBtu     Temp  Production MMCF  Storage BCFE  \\\n",
       "0 2010-01-01                     5.82  26.0317        2197157.0        3117.0   \n",
       "1 2010-01-02                     5.82  24.2249        2197157.0        3117.0   \n",
       "2 2010-01-03                     5.82  23.5537        2197157.0        3117.0   \n",
       "3 2010-01-04                     6.09  23.2831        2197157.0        3117.0   \n",
       "4 2010-01-05                     6.19  24.5469        2197157.0        3117.0   \n",
       "\n",
       "   Reserves BCFE  Consumption MMCF  DOY  DOW  \n",
       "0       255035.0         1666520.0    1    4  \n",
       "1       255035.0         1666520.0    2    5  \n",
       "2       255035.0         1666520.0    3    6  \n",
       "3       255035.0         1666520.0    4    0  \n",
       "4       255035.0         1666520.0    5    1  "
      ]
     },
     "execution_count": 79,
     "metadata": {},
     "output_type": "execute_result"
    }
   ],
   "source": [
    "df.head(5)"
   ]
  },
  {
   "cell_type": "code",
   "execution_count": 80,
   "metadata": {},
   "outputs": [],
   "source": [
    "df['MOY'] =df['DateTime']"
   ]
  },
  {
   "cell_type": "code",
   "execution_count": 81,
   "metadata": {},
   "outputs": [],
   "source": [
    "df['WOY'] =df['DateTime']"
   ]
  },
  {
   "cell_type": "code",
   "execution_count": 82,
   "metadata": {},
   "outputs": [],
   "source": [
    "def moy(x):\n",
    "    #test = df_shift_final['DateTime'][x]\n",
    "    date = datetime.datetime.strptime(str(x), \"%Y-%m-%d %H:%M:%S\")\n",
    "    return date.month"
   ]
  },
  {
   "cell_type": "code",
   "execution_count": 83,
   "metadata": {},
   "outputs": [],
   "source": [
    "df['MOY'] = df['MOY'].apply(lambda x : moy(x))"
   ]
  },
  {
   "cell_type": "code",
   "execution_count": 84,
   "metadata": {},
   "outputs": [
    {
     "data": {
      "text/html": [
       "<div>\n",
       "<style scoped>\n",
       "    .dataframe tbody tr th:only-of-type {\n",
       "        vertical-align: middle;\n",
       "    }\n",
       "\n",
       "    .dataframe tbody tr th {\n",
       "        vertical-align: top;\n",
       "    }\n",
       "\n",
       "    .dataframe thead th {\n",
       "        text-align: right;\n",
       "    }\n",
       "</style>\n",
       "<table border=\"1\" class=\"dataframe\">\n",
       "  <thead>\n",
       "    <tr style=\"text-align: right;\">\n",
       "      <th></th>\n",
       "      <th>DateTime</th>\n",
       "      <th>Henry Hub Price $/MMBtu</th>\n",
       "      <th>Temp</th>\n",
       "      <th>Production MMCF</th>\n",
       "      <th>Storage BCFE</th>\n",
       "      <th>Reserves BCFE</th>\n",
       "      <th>Consumption MMCF</th>\n",
       "      <th>DOY</th>\n",
       "      <th>DOW</th>\n",
       "      <th>MOY</th>\n",
       "      <th>WOY</th>\n",
       "    </tr>\n",
       "  </thead>\n",
       "  <tbody>\n",
       "    <tr>\n",
       "      <th>3352</th>\n",
       "      <td>2019-03-07</td>\n",
       "      <td>2.90</td>\n",
       "      <td>31.3371</td>\n",
       "      <td>3351564.0</td>\n",
       "      <td>1390.0</td>\n",
       "      <td>464292.0</td>\n",
       "      <td>2969569.0</td>\n",
       "      <td>66</td>\n",
       "      <td>3</td>\n",
       "      <td>3</td>\n",
       "      <td>2019-03-07</td>\n",
       "    </tr>\n",
       "    <tr>\n",
       "      <th>3353</th>\n",
       "      <td>2019-03-08</td>\n",
       "      <td>2.90</td>\n",
       "      <td>35.1228</td>\n",
       "      <td>3351564.0</td>\n",
       "      <td>1390.0</td>\n",
       "      <td>464292.0</td>\n",
       "      <td>2969569.0</td>\n",
       "      <td>67</td>\n",
       "      <td>4</td>\n",
       "      <td>3</td>\n",
       "      <td>2019-03-08</td>\n",
       "    </tr>\n",
       "    <tr>\n",
       "      <th>3354</th>\n",
       "      <td>2019-03-09</td>\n",
       "      <td>2.90</td>\n",
       "      <td>37.1899</td>\n",
       "      <td>3351564.0</td>\n",
       "      <td>1390.0</td>\n",
       "      <td>464292.0</td>\n",
       "      <td>2969569.0</td>\n",
       "      <td>68</td>\n",
       "      <td>5</td>\n",
       "      <td>3</td>\n",
       "      <td>2019-03-09</td>\n",
       "    </tr>\n",
       "    <tr>\n",
       "      <th>3355</th>\n",
       "      <td>2019-03-10</td>\n",
       "      <td>2.90</td>\n",
       "      <td>36.4206</td>\n",
       "      <td>3351564.0</td>\n",
       "      <td>1390.0</td>\n",
       "      <td>464292.0</td>\n",
       "      <td>2969569.0</td>\n",
       "      <td>69</td>\n",
       "      <td>6</td>\n",
       "      <td>3</td>\n",
       "      <td>2019-03-10</td>\n",
       "    </tr>\n",
       "    <tr>\n",
       "      <th>3356</th>\n",
       "      <td>2019-03-11</td>\n",
       "      <td>2.86</td>\n",
       "      <td>36.5454</td>\n",
       "      <td>3351564.0</td>\n",
       "      <td>1390.0</td>\n",
       "      <td>464292.0</td>\n",
       "      <td>2969569.0</td>\n",
       "      <td>70</td>\n",
       "      <td>0</td>\n",
       "      <td>3</td>\n",
       "      <td>2019-03-11</td>\n",
       "    </tr>\n",
       "  </tbody>\n",
       "</table>\n",
       "</div>"
      ],
      "text/plain": [
       "       DateTime  Henry Hub Price $/MMBtu     Temp  Production MMCF  \\\n",
       "3352 2019-03-07                     2.90  31.3371        3351564.0   \n",
       "3353 2019-03-08                     2.90  35.1228        3351564.0   \n",
       "3354 2019-03-09                     2.90  37.1899        3351564.0   \n",
       "3355 2019-03-10                     2.90  36.4206        3351564.0   \n",
       "3356 2019-03-11                     2.86  36.5454        3351564.0   \n",
       "\n",
       "      Storage BCFE  Reserves BCFE  Consumption MMCF  DOY  DOW  MOY        WOY  \n",
       "3352        1390.0       464292.0         2969569.0   66    3    3 2019-03-07  \n",
       "3353        1390.0       464292.0         2969569.0   67    4    3 2019-03-08  \n",
       "3354        1390.0       464292.0         2969569.0   68    5    3 2019-03-09  \n",
       "3355        1390.0       464292.0         2969569.0   69    6    3 2019-03-10  \n",
       "3356        1390.0       464292.0         2969569.0   70    0    3 2019-03-11  "
      ]
     },
     "execution_count": 84,
     "metadata": {},
     "output_type": "execute_result"
    }
   ],
   "source": [
    "df.tail()"
   ]
  },
  {
   "cell_type": "code",
   "execution_count": 85,
   "metadata": {},
   "outputs": [],
   "source": [
    "def woy(x):\n",
    "    #test = df_shift_final['DateTime'][x]\n",
    "    date = datetime.datetime.strptime(str(x), \"%Y-%m-%d %H:%M:%S\")\n",
    "    return int(date.strftime(\"%V\"))"
   ]
  },
  {
   "cell_type": "code",
   "execution_count": 86,
   "metadata": {},
   "outputs": [],
   "source": [
    "df['WOY'] = df['WOY'].apply(lambda x : woy(x))"
   ]
  },
  {
   "cell_type": "code",
   "execution_count": 87,
   "metadata": {},
   "outputs": [
    {
     "data": {
      "text/html": [
       "<div>\n",
       "<style scoped>\n",
       "    .dataframe tbody tr th:only-of-type {\n",
       "        vertical-align: middle;\n",
       "    }\n",
       "\n",
       "    .dataframe tbody tr th {\n",
       "        vertical-align: top;\n",
       "    }\n",
       "\n",
       "    .dataframe thead th {\n",
       "        text-align: right;\n",
       "    }\n",
       "</style>\n",
       "<table border=\"1\" class=\"dataframe\">\n",
       "  <thead>\n",
       "    <tr style=\"text-align: right;\">\n",
       "      <th></th>\n",
       "      <th>DateTime</th>\n",
       "      <th>Henry Hub Price $/MMBtu</th>\n",
       "      <th>Temp</th>\n",
       "      <th>Production MMCF</th>\n",
       "      <th>Storage BCFE</th>\n",
       "      <th>Reserves BCFE</th>\n",
       "      <th>Consumption MMCF</th>\n",
       "      <th>DOY</th>\n",
       "      <th>DOW</th>\n",
       "      <th>MOY</th>\n",
       "      <th>WOY</th>\n",
       "    </tr>\n",
       "  </thead>\n",
       "  <tbody>\n",
       "    <tr>\n",
       "      <th>0</th>\n",
       "      <td>2010-01-01</td>\n",
       "      <td>5.82</td>\n",
       "      <td>26.0317</td>\n",
       "      <td>2197157.0</td>\n",
       "      <td>3117.0</td>\n",
       "      <td>255035.0</td>\n",
       "      <td>1666520.0</td>\n",
       "      <td>1</td>\n",
       "      <td>4</td>\n",
       "      <td>1</td>\n",
       "      <td>53</td>\n",
       "    </tr>\n",
       "    <tr>\n",
       "      <th>1</th>\n",
       "      <td>2010-01-02</td>\n",
       "      <td>5.82</td>\n",
       "      <td>24.2249</td>\n",
       "      <td>2197157.0</td>\n",
       "      <td>3117.0</td>\n",
       "      <td>255035.0</td>\n",
       "      <td>1666520.0</td>\n",
       "      <td>2</td>\n",
       "      <td>5</td>\n",
       "      <td>1</td>\n",
       "      <td>53</td>\n",
       "    </tr>\n",
       "    <tr>\n",
       "      <th>2</th>\n",
       "      <td>2010-01-03</td>\n",
       "      <td>5.82</td>\n",
       "      <td>23.5537</td>\n",
       "      <td>2197157.0</td>\n",
       "      <td>3117.0</td>\n",
       "      <td>255035.0</td>\n",
       "      <td>1666520.0</td>\n",
       "      <td>3</td>\n",
       "      <td>6</td>\n",
       "      <td>1</td>\n",
       "      <td>53</td>\n",
       "    </tr>\n",
       "    <tr>\n",
       "      <th>3</th>\n",
       "      <td>2010-01-04</td>\n",
       "      <td>6.09</td>\n",
       "      <td>23.2831</td>\n",
       "      <td>2197157.0</td>\n",
       "      <td>3117.0</td>\n",
       "      <td>255035.0</td>\n",
       "      <td>1666520.0</td>\n",
       "      <td>4</td>\n",
       "      <td>0</td>\n",
       "      <td>1</td>\n",
       "      <td>1</td>\n",
       "    </tr>\n",
       "    <tr>\n",
       "      <th>4</th>\n",
       "      <td>2010-01-05</td>\n",
       "      <td>6.19</td>\n",
       "      <td>24.5469</td>\n",
       "      <td>2197157.0</td>\n",
       "      <td>3117.0</td>\n",
       "      <td>255035.0</td>\n",
       "      <td>1666520.0</td>\n",
       "      <td>5</td>\n",
       "      <td>1</td>\n",
       "      <td>1</td>\n",
       "      <td>1</td>\n",
       "    </tr>\n",
       "  </tbody>\n",
       "</table>\n",
       "</div>"
      ],
      "text/plain": [
       "    DateTime  Henry Hub Price $/MMBtu     Temp  Production MMCF  Storage BCFE  \\\n",
       "0 2010-01-01                     5.82  26.0317        2197157.0        3117.0   \n",
       "1 2010-01-02                     5.82  24.2249        2197157.0        3117.0   \n",
       "2 2010-01-03                     5.82  23.5537        2197157.0        3117.0   \n",
       "3 2010-01-04                     6.09  23.2831        2197157.0        3117.0   \n",
       "4 2010-01-05                     6.19  24.5469        2197157.0        3117.0   \n",
       "\n",
       "   Reserves BCFE  Consumption MMCF  DOY  DOW  MOY  WOY  \n",
       "0       255035.0         1666520.0    1    4    1   53  \n",
       "1       255035.0         1666520.0    2    5    1   53  \n",
       "2       255035.0         1666520.0    3    6    1   53  \n",
       "3       255035.0         1666520.0    4    0    1    1  \n",
       "4       255035.0         1666520.0    5    1    1    1  "
      ]
     },
     "execution_count": 87,
     "metadata": {},
     "output_type": "execute_result"
    }
   ],
   "source": [
    "df.head()"
   ]
  },
  {
   "cell_type": "code",
   "execution_count": 88,
   "metadata": {},
   "outputs": [],
   "source": [
    "df['one_back'] = df['Henry Hub Price $/MMBtu'].shift(1).fillna(method= 'backfill')\n",
    "df['two_back'] = df['Henry Hub Price $/MMBtu'].shift(2).fillna(method= 'backfill')\n",
    "df['three_back'] = df['Henry Hub Price $/MMBtu'].shift(3).fillna(method= 'backfill')\n",
    "df['four_back'] = df['Henry Hub Price $/MMBtu'].shift(4).fillna(method= 'backfill')\n",
    "df['five_back'] = df['Henry Hub Price $/MMBtu'].shift(5).fillna(method= 'backfill')\n",
    "df['six_back'] = df['Henry Hub Price $/MMBtu'].shift(6).fillna(method= 'backfill')"
   ]
  },
  {
   "cell_type": "code",
   "execution_count": 89,
   "metadata": {},
   "outputs": [
    {
     "data": {
      "text/html": [
       "<div>\n",
       "<style scoped>\n",
       "    .dataframe tbody tr th:only-of-type {\n",
       "        vertical-align: middle;\n",
       "    }\n",
       "\n",
       "    .dataframe tbody tr th {\n",
       "        vertical-align: top;\n",
       "    }\n",
       "\n",
       "    .dataframe thead th {\n",
       "        text-align: right;\n",
       "    }\n",
       "</style>\n",
       "<table border=\"1\" class=\"dataframe\">\n",
       "  <thead>\n",
       "    <tr style=\"text-align: right;\">\n",
       "      <th></th>\n",
       "      <th>DateTime</th>\n",
       "      <th>Henry Hub Price $/MMBtu</th>\n",
       "      <th>Temp</th>\n",
       "      <th>Production MMCF</th>\n",
       "      <th>Storage BCFE</th>\n",
       "      <th>Reserves BCFE</th>\n",
       "      <th>Consumption MMCF</th>\n",
       "      <th>DOY</th>\n",
       "      <th>DOW</th>\n",
       "      <th>MOY</th>\n",
       "      <th>WOY</th>\n",
       "      <th>one_back</th>\n",
       "      <th>two_back</th>\n",
       "      <th>three_back</th>\n",
       "      <th>four_back</th>\n",
       "      <th>five_back</th>\n",
       "      <th>six_back</th>\n",
       "    </tr>\n",
       "  </thead>\n",
       "  <tbody>\n",
       "    <tr>\n",
       "      <th>0</th>\n",
       "      <td>2010-01-01</td>\n",
       "      <td>5.82</td>\n",
       "      <td>26.0317</td>\n",
       "      <td>2197157.0</td>\n",
       "      <td>3117.0</td>\n",
       "      <td>255035.0</td>\n",
       "      <td>1666520.0</td>\n",
       "      <td>1</td>\n",
       "      <td>4</td>\n",
       "      <td>1</td>\n",
       "      <td>53</td>\n",
       "      <td>5.82</td>\n",
       "      <td>5.82</td>\n",
       "      <td>5.82</td>\n",
       "      <td>5.82</td>\n",
       "      <td>5.82</td>\n",
       "      <td>5.82</td>\n",
       "    </tr>\n",
       "    <tr>\n",
       "      <th>1</th>\n",
       "      <td>2010-01-02</td>\n",
       "      <td>5.82</td>\n",
       "      <td>24.2249</td>\n",
       "      <td>2197157.0</td>\n",
       "      <td>3117.0</td>\n",
       "      <td>255035.0</td>\n",
       "      <td>1666520.0</td>\n",
       "      <td>2</td>\n",
       "      <td>5</td>\n",
       "      <td>1</td>\n",
       "      <td>53</td>\n",
       "      <td>5.82</td>\n",
       "      <td>5.82</td>\n",
       "      <td>5.82</td>\n",
       "      <td>5.82</td>\n",
       "      <td>5.82</td>\n",
       "      <td>5.82</td>\n",
       "    </tr>\n",
       "    <tr>\n",
       "      <th>2</th>\n",
       "      <td>2010-01-03</td>\n",
       "      <td>5.82</td>\n",
       "      <td>23.5537</td>\n",
       "      <td>2197157.0</td>\n",
       "      <td>3117.0</td>\n",
       "      <td>255035.0</td>\n",
       "      <td>1666520.0</td>\n",
       "      <td>3</td>\n",
       "      <td>6</td>\n",
       "      <td>1</td>\n",
       "      <td>53</td>\n",
       "      <td>5.82</td>\n",
       "      <td>5.82</td>\n",
       "      <td>5.82</td>\n",
       "      <td>5.82</td>\n",
       "      <td>5.82</td>\n",
       "      <td>5.82</td>\n",
       "    </tr>\n",
       "    <tr>\n",
       "      <th>3</th>\n",
       "      <td>2010-01-04</td>\n",
       "      <td>6.09</td>\n",
       "      <td>23.2831</td>\n",
       "      <td>2197157.0</td>\n",
       "      <td>3117.0</td>\n",
       "      <td>255035.0</td>\n",
       "      <td>1666520.0</td>\n",
       "      <td>4</td>\n",
       "      <td>0</td>\n",
       "      <td>1</td>\n",
       "      <td>1</td>\n",
       "      <td>5.82</td>\n",
       "      <td>5.82</td>\n",
       "      <td>5.82</td>\n",
       "      <td>5.82</td>\n",
       "      <td>5.82</td>\n",
       "      <td>5.82</td>\n",
       "    </tr>\n",
       "    <tr>\n",
       "      <th>4</th>\n",
       "      <td>2010-01-05</td>\n",
       "      <td>6.19</td>\n",
       "      <td>24.5469</td>\n",
       "      <td>2197157.0</td>\n",
       "      <td>3117.0</td>\n",
       "      <td>255035.0</td>\n",
       "      <td>1666520.0</td>\n",
       "      <td>5</td>\n",
       "      <td>1</td>\n",
       "      <td>1</td>\n",
       "      <td>1</td>\n",
       "      <td>6.09</td>\n",
       "      <td>5.82</td>\n",
       "      <td>5.82</td>\n",
       "      <td>5.82</td>\n",
       "      <td>5.82</td>\n",
       "      <td>5.82</td>\n",
       "    </tr>\n",
       "    <tr>\n",
       "      <th>5</th>\n",
       "      <td>2010-01-06</td>\n",
       "      <td>6.47</td>\n",
       "      <td>25.2813</td>\n",
       "      <td>2197157.0</td>\n",
       "      <td>3117.0</td>\n",
       "      <td>255035.0</td>\n",
       "      <td>1666520.0</td>\n",
       "      <td>6</td>\n",
       "      <td>2</td>\n",
       "      <td>1</td>\n",
       "      <td>1</td>\n",
       "      <td>6.19</td>\n",
       "      <td>6.09</td>\n",
       "      <td>5.82</td>\n",
       "      <td>5.82</td>\n",
       "      <td>5.82</td>\n",
       "      <td>5.82</td>\n",
       "    </tr>\n",
       "    <tr>\n",
       "      <th>6</th>\n",
       "      <td>2010-01-07</td>\n",
       "      <td>7.51</td>\n",
       "      <td>21.0909</td>\n",
       "      <td>2197157.0</td>\n",
       "      <td>3117.0</td>\n",
       "      <td>255035.0</td>\n",
       "      <td>1666520.0</td>\n",
       "      <td>7</td>\n",
       "      <td>3</td>\n",
       "      <td>1</td>\n",
       "      <td>1</td>\n",
       "      <td>6.47</td>\n",
       "      <td>6.19</td>\n",
       "      <td>6.09</td>\n",
       "      <td>5.82</td>\n",
       "      <td>5.82</td>\n",
       "      <td>5.82</td>\n",
       "    </tr>\n",
       "    <tr>\n",
       "      <th>7</th>\n",
       "      <td>2010-01-08</td>\n",
       "      <td>6.56</td>\n",
       "      <td>18.5464</td>\n",
       "      <td>2197157.0</td>\n",
       "      <td>3117.0</td>\n",
       "      <td>255035.0</td>\n",
       "      <td>1666520.0</td>\n",
       "      <td>8</td>\n",
       "      <td>4</td>\n",
       "      <td>1</td>\n",
       "      <td>1</td>\n",
       "      <td>7.51</td>\n",
       "      <td>6.47</td>\n",
       "      <td>6.19</td>\n",
       "      <td>6.09</td>\n",
       "      <td>5.82</td>\n",
       "      <td>5.82</td>\n",
       "    </tr>\n",
       "    <tr>\n",
       "      <th>8</th>\n",
       "      <td>2010-01-09</td>\n",
       "      <td>6.56</td>\n",
       "      <td>21.1352</td>\n",
       "      <td>2197157.0</td>\n",
       "      <td>3117.0</td>\n",
       "      <td>255035.0</td>\n",
       "      <td>1666520.0</td>\n",
       "      <td>9</td>\n",
       "      <td>5</td>\n",
       "      <td>1</td>\n",
       "      <td>1</td>\n",
       "      <td>6.56</td>\n",
       "      <td>7.51</td>\n",
       "      <td>6.47</td>\n",
       "      <td>6.19</td>\n",
       "      <td>6.09</td>\n",
       "      <td>5.82</td>\n",
       "    </tr>\n",
       "    <tr>\n",
       "      <th>9</th>\n",
       "      <td>2010-01-10</td>\n",
       "      <td>6.56</td>\n",
       "      <td>25.2046</td>\n",
       "      <td>2197157.0</td>\n",
       "      <td>3117.0</td>\n",
       "      <td>255035.0</td>\n",
       "      <td>1666520.0</td>\n",
       "      <td>10</td>\n",
       "      <td>6</td>\n",
       "      <td>1</td>\n",
       "      <td>1</td>\n",
       "      <td>6.56</td>\n",
       "      <td>6.56</td>\n",
       "      <td>7.51</td>\n",
       "      <td>6.47</td>\n",
       "      <td>6.19</td>\n",
       "      <td>6.09</td>\n",
       "    </tr>\n",
       "  </tbody>\n",
       "</table>\n",
       "</div>"
      ],
      "text/plain": [
       "    DateTime  Henry Hub Price $/MMBtu     Temp  Production MMCF  Storage BCFE  \\\n",
       "0 2010-01-01                     5.82  26.0317        2197157.0        3117.0   \n",
       "1 2010-01-02                     5.82  24.2249        2197157.0        3117.0   \n",
       "2 2010-01-03                     5.82  23.5537        2197157.0        3117.0   \n",
       "3 2010-01-04                     6.09  23.2831        2197157.0        3117.0   \n",
       "4 2010-01-05                     6.19  24.5469        2197157.0        3117.0   \n",
       "5 2010-01-06                     6.47  25.2813        2197157.0        3117.0   \n",
       "6 2010-01-07                     7.51  21.0909        2197157.0        3117.0   \n",
       "7 2010-01-08                     6.56  18.5464        2197157.0        3117.0   \n",
       "8 2010-01-09                     6.56  21.1352        2197157.0        3117.0   \n",
       "9 2010-01-10                     6.56  25.2046        2197157.0        3117.0   \n",
       "\n",
       "   Reserves BCFE  Consumption MMCF  DOY  DOW  MOY  WOY  one_back  two_back  \\\n",
       "0       255035.0         1666520.0    1    4    1   53      5.82      5.82   \n",
       "1       255035.0         1666520.0    2    5    1   53      5.82      5.82   \n",
       "2       255035.0         1666520.0    3    6    1   53      5.82      5.82   \n",
       "3       255035.0         1666520.0    4    0    1    1      5.82      5.82   \n",
       "4       255035.0         1666520.0    5    1    1    1      6.09      5.82   \n",
       "5       255035.0         1666520.0    6    2    1    1      6.19      6.09   \n",
       "6       255035.0         1666520.0    7    3    1    1      6.47      6.19   \n",
       "7       255035.0         1666520.0    8    4    1    1      7.51      6.47   \n",
       "8       255035.0         1666520.0    9    5    1    1      6.56      7.51   \n",
       "9       255035.0         1666520.0   10    6    1    1      6.56      6.56   \n",
       "\n",
       "   three_back  four_back  five_back  six_back  \n",
       "0        5.82       5.82       5.82      5.82  \n",
       "1        5.82       5.82       5.82      5.82  \n",
       "2        5.82       5.82       5.82      5.82  \n",
       "3        5.82       5.82       5.82      5.82  \n",
       "4        5.82       5.82       5.82      5.82  \n",
       "5        5.82       5.82       5.82      5.82  \n",
       "6        6.09       5.82       5.82      5.82  \n",
       "7        6.19       6.09       5.82      5.82  \n",
       "8        6.47       6.19       6.09      5.82  \n",
       "9        7.51       6.47       6.19      6.09  "
      ]
     },
     "execution_count": 89,
     "metadata": {},
     "output_type": "execute_result"
    }
   ],
   "source": [
    "df.head(10)"
   ]
  },
  {
   "cell_type": "code",
   "execution_count": 90,
   "metadata": {},
   "outputs": [],
   "source": [
    "y = df.pop('Henry Hub Price $/MMBtu').values"
   ]
  },
  {
   "cell_type": "code",
   "execution_count": 91,
   "metadata": {},
   "outputs": [],
   "source": [
    "DateTime = df.pop('DateTime').values"
   ]
  },
  {
   "cell_type": "code",
   "execution_count": 32,
   "metadata": {},
   "outputs": [
    {
     "data": {
      "text/plain": [
       "15"
      ]
     },
     "execution_count": 32,
     "metadata": {},
     "output_type": "execute_result"
    }
   ],
   "source": [
    "tt= ['Temp', 'Production MMCF', 'Storage BCFE', 'Reserves BCFE',\n",
    "       'Consumption MMCF', 'DOY', 'DOW', 'MOY', 'WOY', 'one_back', 'two_back',\n",
    "       'three_back', 'four_back', 'five_back', 'six_back']\n",
    "len(tt)\n"
   ]
  },
  {
   "cell_type": "code",
   "execution_count": 37,
   "metadata": {},
   "outputs": [],
   "source": [
    "X = df.values"
   ]
  },
  {
   "cell_type": "code",
   "execution_count": 38,
   "metadata": {},
   "outputs": [],
   "source": [
    "size = int(len(X) * 0.75)\n",
    "X_train, X_test, y_train, y_test = X[0:size], X[size:len(X)], y[0:size], y[size:len(y)]"
   ]
  },
  {
   "cell_type": "code",
   "execution_count": 39,
   "metadata": {},
   "outputs": [
    {
     "name": "stdout",
     "output_type": "stream",
     "text": [
      "Accuracy score: 0.833\n"
     ]
    }
   ],
   "source": [
    "model = RandomForestRegressor()\n",
    "depth_param = np.arange(1, 12, 1)\n",
    "num_samples_param = np.arange(5,95,10)\n",
    "n_trees = np.arange(1,70, 10)\n",
    "param_grid = {\n",
    "    'bootstrap': [True, False],\n",
    "    'max_depth': [80, 90], #, 100, 110\n",
    "    'max_features': [2, 3, 4, 5, 10, 15],\n",
    "    'min_samples_leaf': [3, 4, 5, 10], #, 50, 90\n",
    "    'min_samples_split': [8, 10, 12],\n",
    "    'n_estimators': [100, 200] #, 300, 1000, 2000\n",
    "}\n",
    "clf = GridSearchCV(model, param_grid, cv=3, n_jobs=-1)\n",
    "clf.fit(X_train,y_train)\n",
    "print('Accuracy score: {:.3}'.format(clf.score(X_test, y_test)))"
   ]
  },
  {
   "cell_type": "code",
   "execution_count": 40,
   "metadata": {},
   "outputs": [
    {
     "data": {
      "text/plain": [
       "RandomForestRegressor(bootstrap=True, criterion='mse', max_depth=80,\n",
       "           max_features=15, max_leaf_nodes=None, min_impurity_decrease=0.0,\n",
       "           min_impurity_split=None, min_samples_leaf=5,\n",
       "           min_samples_split=12, min_weight_fraction_leaf=0.0,\n",
       "           n_estimators=200, n_jobs=None, oob_score=False,\n",
       "           random_state=None, verbose=0, warm_start=False)"
      ]
     },
     "execution_count": 40,
     "metadata": {},
     "output_type": "execute_result"
    }
   ],
   "source": [
    "clf.best_estimator_"
   ]
  },
  {
   "cell_type": "code",
   "execution_count": 42,
   "metadata": {},
   "outputs": [
    {
     "name": "stdout",
     "output_type": "stream",
     "text": [
      "Test MSE: 0.03371\n"
     ]
    }
   ],
   "source": [
    "X_train, X_test, y_train, y_test \n",
    "history_X = X_train\n",
    "history_y = y_train\n",
    "predictions = list()\n",
    "for t in range(len(y_test)):\n",
    "    rfr = RandomForestRegressor(bootstrap=True, criterion='mse', max_depth=80,\n",
    "           max_features=15, max_leaf_nodes=None, min_impurity_decrease=0.0,\n",
    "           min_impurity_split=None, min_samples_leaf=5,\n",
    "           min_samples_split=12, min_weight_fraction_leaf=0.0,\n",
    "           n_estimators=200, n_jobs=None, oob_score=False,\n",
    "           random_state=None, verbose=0, warm_start=False)\n",
    "    rfr_fit = rfr.fit(history_X, history_y)\n",
    "    output = rfr_fit.predict(X_test[t].reshape((1,15)))\n",
    "    yhat = output[0]\n",
    "    predictions.append(yhat)\n",
    "    obs = y_test[t]\n",
    "    history_X = np.append(history_X, X_test[t].reshape((1,15)), axis=0)\n",
    "    history_y = np.append(history_y,obs)\n",
    "    #print('{} of {} predicted={}, expected={}'.format(t, len(y_test), yhat, obs))\n",
    "pred = np.array(predictions)\n",
    "error = mean_squared_error(y_test, predictions)\n",
    "print('Test MSE: %.5f' % error)\n",
    "\n",
    "# plt.plot(test)\n",
    "# plt.plot(predictions, color='red')\n",
    "# plt.show()"
   ]
  },
  {
   "cell_type": "code",
   "execution_count": 243,
   "metadata": {},
   "outputs": [
    {
     "data": {
      "image/png": "[encoded data removed]",
      "text/plain": [
       "<Figure size 1800x360 with 1 Axes>"
      ]
     },
     "metadata": {},
     "output_type": "display_data"
    }
   ],
   "source": [
    "fig, axs = plt.subplots(figsize=(25, 5))\n",
    "axs.plot(y_test, color='black')\n",
    "axs.plot(predictions, color='red', alpha = 0.8)\n",
    "#axs.set_xlim([200, 400])\n",
    "#axs.set_ylim([2.0, 4.0])\n",
    "plt.show()"
   ]
  },
  {
   "cell_type": "code",
   "execution_count": 56,
   "metadata": {},
   "outputs": [
    {
     "name": "stdout",
     "output_type": "stream",
     "text": [
      "Test MSE: 0.03445\n"
     ]
    }
   ],
   "source": [
    "X_train, X_test, y_train, y_test \n",
    "history_X = X_train\n",
    "history_y = y_train\n",
    "predictions2 = list()\n",
    "rfr = RandomForestRegressor(bootstrap=True, criterion='mse', max_depth=80,\n",
    "           max_features=15, max_leaf_nodes=None, min_impurity_decrease=0.0,\n",
    "           min_impurity_split=None, min_samples_leaf=5,\n",
    "           min_samples_split=12, min_weight_fraction_leaf=0.0,\n",
    "           n_estimators=200, n_jobs=None, oob_score=False,\n",
    "           random_state=None, verbose=0, warm_start=False)\n",
    "rfr_fit = rfr.fit(X_train, y_train)\n",
    "for t in range(len(y_test)):\n",
    "    output = rfr_fit.predict(X_test[t].reshape((1,15)))\n",
    "    yhat = output[0]\n",
    "    predictions2.append(yhat)\n",
    "#     obs = y_test[t]\n",
    "#     history_X = np.append(history_X, X_test[t].reshape((1,6)), axis=0)\n",
    "#     history_y = np.append(history_y,obs)\n",
    "    #print('{} of {} predicted={}, expected={}'.format(t, len(y_test), yhat, obs))\n",
    "pred = np.array(predictions2)\n",
    "error = mean_squared_error(y_test, predictions2)\n",
    "print('Test MSE: %.5f' % error)\n",
    "\n",
    "# plt.plot(test)\n",
    "# plt.plot(predictions, color='red')\n",
    "# plt.show()"
   ]
  },
  {
   "cell_type": "code",
   "execution_count": 246,
   "metadata": {},
   "outputs": [
    {
     "data": {
      "image/png": "[encoded data removed]",
      "text/plain": [
       "<Figure size 1800x360 with 1 Axes>"
      ]
     },
     "metadata": {},
     "output_type": "display_data"
    }
   ],
   "source": [
    "fig, axs = plt.subplots(figsize=(25, 5))\n",
    "axs.plot(y_test, color='black')\n",
    "axs.plot(predictions, color='red', alpha = 0.8)\n",
    "axs.set_xlim([300, 500])\n",
    "#axs.set_ylim([2.0, 4.0])\n",
    "plt.show()"
   ]
  },
  {
   "cell_type": "code",
   "execution_count": null,
   "metadata": {},
   "outputs": [],
   "source": []
  },
  {
   "cell_type": "code",
   "execution_count": null,
   "metadata": {},
   "outputs": [],
   "source": []
  },
  {
   "cell_type": "code",
   "execution_count": 189,
   "metadata": {},
   "outputs": [
    {
     "data": {
      "text/plain": [
       "(3357, numpy.ndarray)"
      ]
     },
     "execution_count": 189,
     "metadata": {},
     "output_type": "execute_result"
    }
   ],
   "source": [
    "test = np.array([0]+[(b - a)  for a, b in zip(y[::1], y[1::1])])\n",
    "len(test), type(test)"
   ]
  },
  {
   "cell_type": "code",
   "execution_count": null,
   "metadata": {},
   "outputs": [],
   "source": []
  },
  {
   "cell_type": "code",
   "execution_count": 230,
   "metadata": {},
   "outputs": [],
   "source": [
    "no_back_df = ['Temp', 'Storage BCFE', 'Reserves BCFE','Consumption MMCF','DOY', 'DOW', 'MOY', 'WOY','Production MMCF'] #,'five_back', 'six_back', "
   ]
  },
  {
   "cell_type": "code",
   "execution_count": 231,
   "metadata": {},
   "outputs": [],
   "source": [
    "nb_df = df[no_back_df]"
   ]
  },
  {
   "cell_type": "code",
   "execution_count": 232,
   "metadata": {},
   "outputs": [
    {
     "data": {
      "text/html": [
       "<div>\n",
       "<style scoped>\n",
       "    .dataframe tbody tr th:only-of-type {\n",
       "        vertical-align: middle;\n",
       "    }\n",
       "\n",
       "    .dataframe tbody tr th {\n",
       "        vertical-align: top;\n",
       "    }\n",
       "\n",
       "    .dataframe thead th {\n",
       "        text-align: right;\n",
       "    }\n",
       "</style>\n",
       "<table border=\"1\" class=\"dataframe\">\n",
       "  <thead>\n",
       "    <tr style=\"text-align: right;\">\n",
       "      <th></th>\n",
       "      <th>Temp</th>\n",
       "      <th>Storage BCFE</th>\n",
       "      <th>Reserves BCFE</th>\n",
       "      <th>Consumption MMCF</th>\n",
       "      <th>DOY</th>\n",
       "      <th>DOW</th>\n",
       "      <th>MOY</th>\n",
       "      <th>WOY</th>\n",
       "      <th>Production MMCF</th>\n",
       "    </tr>\n",
       "  </thead>\n",
       "  <tbody>\n",
       "    <tr>\n",
       "      <th>0</th>\n",
       "      <td>26.0317</td>\n",
       "      <td>3117.0</td>\n",
       "      <td>255035.0</td>\n",
       "      <td>1666520.0</td>\n",
       "      <td>1</td>\n",
       "      <td>4</td>\n",
       "      <td>1</td>\n",
       "      <td>53</td>\n",
       "      <td>2197157.0</td>\n",
       "    </tr>\n",
       "    <tr>\n",
       "      <th>1</th>\n",
       "      <td>24.2249</td>\n",
       "      <td>3117.0</td>\n",
       "      <td>255035.0</td>\n",
       "      <td>1666520.0</td>\n",
       "      <td>2</td>\n",
       "      <td>5</td>\n",
       "      <td>1</td>\n",
       "      <td>53</td>\n",
       "      <td>2197157.0</td>\n",
       "    </tr>\n",
       "    <tr>\n",
       "      <th>2</th>\n",
       "      <td>23.5537</td>\n",
       "      <td>3117.0</td>\n",
       "      <td>255035.0</td>\n",
       "      <td>1666520.0</td>\n",
       "      <td>3</td>\n",
       "      <td>6</td>\n",
       "      <td>1</td>\n",
       "      <td>53</td>\n",
       "      <td>2197157.0</td>\n",
       "    </tr>\n",
       "    <tr>\n",
       "      <th>3</th>\n",
       "      <td>23.2831</td>\n",
       "      <td>3117.0</td>\n",
       "      <td>255035.0</td>\n",
       "      <td>1666520.0</td>\n",
       "      <td>4</td>\n",
       "      <td>0</td>\n",
       "      <td>1</td>\n",
       "      <td>1</td>\n",
       "      <td>2197157.0</td>\n",
       "    </tr>\n",
       "    <tr>\n",
       "      <th>4</th>\n",
       "      <td>24.5469</td>\n",
       "      <td>3117.0</td>\n",
       "      <td>255035.0</td>\n",
       "      <td>1666520.0</td>\n",
       "      <td>5</td>\n",
       "      <td>1</td>\n",
       "      <td>1</td>\n",
       "      <td>1</td>\n",
       "      <td>2197157.0</td>\n",
       "    </tr>\n",
       "  </tbody>\n",
       "</table>\n",
       "</div>"
      ],
      "text/plain": [
       "      Temp  Storage BCFE  Reserves BCFE  Consumption MMCF  DOY  DOW  MOY  WOY  \\\n",
       "0  26.0317        3117.0       255035.0         1666520.0    1    4    1   53   \n",
       "1  24.2249        3117.0       255035.0         1666520.0    2    5    1   53   \n",
       "2  23.5537        3117.0       255035.0         1666520.0    3    6    1   53   \n",
       "3  23.2831        3117.0       255035.0         1666520.0    4    0    1    1   \n",
       "4  24.5469        3117.0       255035.0         1666520.0    5    1    1    1   \n",
       "\n",
       "   Production MMCF  \n",
       "0        2197157.0  \n",
       "1        2197157.0  \n",
       "2        2197157.0  \n",
       "3        2197157.0  \n",
       "4        2197157.0  "
      ]
     },
     "execution_count": 232,
     "metadata": {},
     "output_type": "execute_result"
    }
   ],
   "source": [
    "nb_df.head()"
   ]
  },
  {
   "cell_type": "code",
   "execution_count": 233,
   "metadata": {},
   "outputs": [],
   "source": [
    "X = nb_df.values"
   ]
  },
  {
   "cell_type": "code",
   "execution_count": 234,
   "metadata": {},
   "outputs": [
    {
     "data": {
      "text/plain": [
       "array([2.603170e+01, 3.117000e+03, 2.550350e+05, 1.666520e+06,\n",
       "       1.000000e+00, 4.000000e+00, 1.000000e+00, 5.300000e+01,\n",
       "       2.197157e+06])"
      ]
     },
     "execution_count": 234,
     "metadata": {},
     "output_type": "execute_result"
    }
   ],
   "source": [
    "X[0]"
   ]
  },
  {
   "cell_type": "code",
   "execution_count": 235,
   "metadata": {},
   "outputs": [],
   "source": [
    "size = int(len(X) * 0.75)\n",
    "X_train, X_test, y_train, y_test = X[0:size], X[size:len(X)], y[0:size], y[size:len(y)]"
   ]
  },
  {
   "cell_type": "code",
   "execution_count": 236,
   "metadata": {},
   "outputs": [
    {
     "name": "stdout",
     "output_type": "stream",
     "text": [
      "Accuracy score: -1.02\n"
     ]
    }
   ],
   "source": [
    "model = RandomForestRegressor()\n",
    "depth_param = np.arange(1, 12, 1)\n",
    "num_samples_param = np.arange(5,95,10)\n",
    "n_trees = np.arange(1,70, 10)\n",
    "param_grid = {\n",
    "    'bootstrap': [True, False],\n",
    "    'max_depth': [80, 90], #, 100, 110\n",
    "    'max_features': [2, 3, 4, 5, 9],\n",
    "    'min_samples_leaf': [3, 4, 5, 10], #, 50, 90\n",
    "    'min_samples_split': [8, 10, 12],\n",
    "    'n_estimators': [100, 200] #, 300, 1000, 2000\n",
    "}\n",
    "clf = GridSearchCV(model, param_grid, cv=3, n_jobs=-1)\n",
    "clf.fit(X_train,y_train)\n",
    "print('Accuracy score: {:.3}'.format(clf.score(X_test, y_test)))"
   ]
  },
  {
   "cell_type": "code",
   "execution_count": 237,
   "metadata": {},
   "outputs": [
    {
     "data": {
      "text/plain": [
       "RandomForestRegressor(bootstrap=True, criterion='mse', max_depth=80,\n",
       "           max_features=2, max_leaf_nodes=None, min_impurity_decrease=0.0,\n",
       "           min_impurity_split=None, min_samples_leaf=4,\n",
       "           min_samples_split=12, min_weight_fraction_leaf=0.0,\n",
       "           n_estimators=100, n_jobs=None, oob_score=False,\n",
       "           random_state=None, verbose=0, warm_start=False)"
      ]
     },
     "execution_count": 237,
     "metadata": {},
     "output_type": "execute_result"
    }
   ],
   "source": [
    "clf.best_estimator_"
   ]
  },
  {
   "cell_type": "code",
   "execution_count": 240,
   "metadata": {},
   "outputs": [
    {
     "name": "stdout",
     "output_type": "stream",
     "text": [
      "Test MSE: 0.41234\n"
     ]
    }
   ],
   "source": [
    "X_train, X_test, y_train, y_test \n",
    "history_X = X_train\n",
    "history_y = y_train\n",
    "predictions2 = list()\n",
    "rfr = RandomForestRegressor(bootstrap=True, criterion='mse', max_depth=80,\n",
    "           max_features=2, max_leaf_nodes=None, min_impurity_decrease=0.0,\n",
    "           min_impurity_split=None, min_samples_leaf=4,\n",
    "           min_samples_split=12, min_weight_fraction_leaf=0.0,\n",
    "           n_estimators=100, n_jobs=None, oob_score=False,\n",
    "           random_state=None, verbose=0, warm_start=False)\n",
    "rfr_fit = rfr.fit(X_train, y_train)\n",
    "for t in range(len(y_test)):\n",
    "    output = rfr_fit.predict(X_test[t].reshape((1,9)))\n",
    "    yhat = output[0]\n",
    "    predictions2.append(yhat)\n",
    "#     obs = y_test[t]\n",
    "#     history_X = np.append(history_X, X_test[t].reshape((1,6)), axis=0)\n",
    "#     history_y = np.append(history_y,obs)\n",
    "    #print('{} of {} predicted={}, expected={}'.format(t, len(y_test), yhat, obs))\n",
    "pred = np.array(predictions2)\n",
    "error = mean_squared_error(y_test, predictions2)\n",
    "print('Test MSE: %.5f' % error)\n",
    "\n",
    "# plt.plot(test)\n",
    "# plt.plot(predictions, color='red')\n",
    "# plt.show()"
   ]
  },
  {
   "cell_type": "code",
   "execution_count": 242,
   "metadata": {},
   "outputs": [
    {
     "data": {
      "image/png": "[encoded data removed]",
      "text/plain": [
       "<Figure size 1800x360 with 1 Axes>"
      ]
     },
     "metadata": {},
     "output_type": "display_data"
    }
   ],
   "source": [
    "fig, axs = plt.subplots(figsize=(25, 5))\n",
    "axs.plot(y_test, color='black')\n",
    "axs.plot(predictions2, color='red', alpha = 0.8)\n",
    "#axs.set_xlim([300, 600])\n",
    "#axs.set_ylim([-0.2, .2])\n",
    "plt.show()"
   ]
  },
  {
   "cell_type": "code",
   "execution_count": 247,
   "metadata": {},
   "outputs": [
    {
     "data": {
      "image/png": "[encoded data removed]",
      "text/plain": [
       "<Figure size 720x576 with 1 Axes>"
      ]
     },
     "metadata": {},
     "output_type": "display_data"
    }
   ],
   "source": [
    "# Plot the feature importance\n",
    "feat_scores = pd.Series(rfr.feature_importances_,\n",
    "                           index=nb_df.columns)\n",
    "feat_scores = feat_scores.sort_values()\n",
    "ax = feat_scores.plot(kind='barh', \n",
    "                      figsize=(10,8),\n",
    "                      color='b')\n",
    "ax.set_title('Average Gini Importance')\n",
    "ax.set_xlabel('Average contribution to information gain');"
   ]
  },
  {
   "cell_type": "code",
   "execution_count": null,
   "metadata": {},
   "outputs": [],
   "source": []
  }
 ],
 "metadata": {
  "kernelspec": {
   "display_name": "Python 3",
   "language": "python",
   "name": "python3"
  },
  "language_info": {
   "codemirror_mode": {
    "name": "ipython",
    "version": 3
   },
   "file_extension": ".py",
   "mimetype": "text/x-python",
   "name": "python",
   "nbconvert_exporter": "python",
   "pygments_lexer": "ipython3",
   "version": "3.6.8"
  }
 },
 "nbformat": 4,
 "nbformat_minor": 2
}
